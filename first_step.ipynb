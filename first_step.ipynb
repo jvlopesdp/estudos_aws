{
 "cells": [
  {
   "cell_type": "code",
   "execution_count": 1,
   "metadata": {},
   "outputs": [],
   "source": [
    "import boto3"
   ]
  },
  {
   "cell_type": "code",
   "execution_count": 2,
   "metadata": {},
   "outputs": [],
   "source": [
    "s3resource=boto3.client('s3','us-east-1')"
   ]
  },
  {
   "cell_type": "code",
   "execution_count": 16,
   "metadata": {},
   "outputs": [
    {
     "data": {
      "text/plain": [
       "{'ResponseMetadata': {'RequestId': 'MJ9YYAWGEKXERRVD',\n",
       "  'HostId': 'vwCIbPwXHQZyjm6MNvKQXp6qVXAGTkl16WNHuuajAhLSfJt0wVv4tP3F+Wbzfq+lR9S4oLzm4Y0=',\n",
       "  'HTTPStatusCode': 200,\n",
       "  'HTTPHeaders': {'x-amz-id-2': 'vwCIbPwXHQZyjm6MNvKQXp6qVXAGTkl16WNHuuajAhLSfJt0wVv4tP3F+Wbzfq+lR9S4oLzm4Y0=',\n",
       "   'x-amz-request-id': 'MJ9YYAWGEKXERRVD',\n",
       "   'date': 'Sun, 19 Nov 2023 22:29:03 GMT',\n",
       "   'location': '/20231119mentalhealthbase',\n",
       "   'server': 'AmazonS3',\n",
       "   'content-length': '0'},\n",
       "  'RetryAttempts': 0},\n",
       " 'Location': '/20231119mentalhealthbase'}"
      ]
     },
     "execution_count": 16,
     "metadata": {},
     "output_type": "execute_result"
    }
   ],
   "source": [
    "s3resource.create_bucket(Bucket='20231119mentalhealthbase')"
   ]
  },
  {
   "cell_type": "code",
   "execution_count": 22,
   "metadata": {},
   "outputs": [],
   "source": [
    "KaggleDatasetname= 'C://Users//joao.paula//.kaggle//mental_health.sqlite'\n",
    "bucket_name= '20231119mentalhealthbase'\n",
    "S3storedkaggledatasetname= 'mental_health_database.sqlite'"
   ]
  },
  {
   "cell_type": "code",
   "execution_count": 23,
   "metadata": {},
   "outputs": [],
   "source": [
    "s3resource.upload_file(KaggleDatasetname,bucket_name,S3storedkaggledatasetname)"
   ]
  },
  {
   "cell_type": "code",
   "execution_count": null,
   "metadata": {},
   "outputs": [],
   "source": []
  }
 ],
 "metadata": {
  "kernelspec": {
   "display_name": "aws_treino",
   "language": "python",
   "name": "python3"
  },
  "language_info": {
   "codemirror_mode": {
    "name": "ipython",
    "version": 3
   },
   "file_extension": ".py",
   "mimetype": "text/x-python",
   "name": "python",
   "nbconvert_exporter": "python",
   "pygments_lexer": "ipython3",
   "version": "3.10.13"
  }
 },
 "nbformat": 4,
 "nbformat_minor": 2
}
